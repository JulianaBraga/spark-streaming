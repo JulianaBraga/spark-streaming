{
 "cells": [
  {
   "cell_type": "code",
   "execution_count": null,
   "metadata": {},
   "outputs": [],
   "source": [
    "%pip install nltk"
   ]
  },
  {
   "cell_type": "code",
   "execution_count": null,
   "metadata": {},
   "outputs": [],
   "source": [
    "%pip install wordcloud"
   ]
  },
  {
   "cell_type": "code",
   "execution_count": null,
   "metadata": {},
   "outputs": [],
   "source": [
    "import nltk\n",
    "nltk.download('stopwords')\n",
    "from nltk.corpus import stopwords"
   ]
  },
  {
   "cell_type": "code",
   "execution_count": 5,
   "metadata": {},
   "outputs": [],
   "source": [
    "from wordcloud import WordCloud\n",
    "import matplotlib.pyplot as plt\n",
    "from IPython import display\n",
    "import time"
   ]
  },
  {
   "cell_type": "code",
   "execution_count": 1,
   "metadata": {},
   "outputs": [],
   "source": [
    "from pyspark.sql import SparkSession\n",
    "from pyspark.sql import functions as f\n",
    "\n",
    "spark = SparkSession \\\n",
    "        .builder \\\n",
    "        .appName(\"SparkStreaming\") \\\n",
    "        .getOrCreate()"
   ]
  },
  {
   "cell_type": "code",
   "execution_count": 2,
   "metadata": {},
   "outputs": [],
   "source": [
    "def treatment_tweets(df):\n",
    "    words = df\\\n",
    "        .select(f.explode(f.split(f.lower('_c0'), ' ')).alias('word'))\\\n",
    "        .withColumn('word', f.regexp_replace('word', r'http\\S+', ''))\\\n",
    "        .withColumn('word', f.regexp_replace('word', r'@\\w+', ''))\\\n",
    "        .withColumn('word', f.regexp_replace('word', r'rt', ''))\\\n",
    "        .na.replace('', None)\\\n",
    "        .na.drop()\n",
    "    \n",
    "    return words"
   ]
  },
  {
   "cell_type": "code",
   "execution_count": null,
   "metadata": {},
   "outputs": [],
   "source": [
    "stops = stopwords.words('portuguese')\n",
    "stops.append('futebol')\n",
    "\n",
    "plt.figure(figsize=(20,10))\n",
    "\n",
    "while True:\n",
    "    try:\n",
    "        words = spark.read.csv('./csv', encoding='utf-8')\n",
    "        words = treatment_tweets(words)\n",
    "        # Transforma df em uma lista de linhas\n",
    "        rows = words.collect()\n",
    "        all_words = ''\n",
    "\n",
    "        for row in rows:\n",
    "            all_words = all_words + ' ' + row['word']\n",
    "        \n",
    "        word_cloud = WordCloud(stopwords=stops,\n",
    "                                background_color='black',\n",
    "                                width=1920,\n",
    "                                height=1080,\n",
    "                                max_words=100).generate(all_words)\n",
    "\n",
    "        plt.cla()\n",
    "        plt.axis('off')\n",
    "        plt.imshow(word_cloud)\n",
    "        display.display(plt.gcf())\n",
    "        display.clear_output(wait=True)\n",
    "        # Vai limpar o output de 5 em 5s\n",
    "        time.sleep(5)\n",
    "    \n",
    "    except KeyboardInterrupt:\n",
    "        break"
   ]
  }
 ],
 "metadata": {
  "kernelspec": {
   "display_name": "Python 3.10.5 64-bit",
   "language": "python",
   "name": "python3"
  },
  "language_info": {
   "codemirror_mode": {
    "name": "ipython",
    "version": 3
   },
   "file_extension": ".py",
   "mimetype": "text/x-python",
   "name": "python",
   "nbconvert_exporter": "python",
   "pygments_lexer": "ipython3",
   "version": "3.10.5"
  },
  "orig_nbformat": 4,
  "vscode": {
   "interpreter": {
    "hash": "bf51cace21de63703de3d8420d8097d7e02d96b9444828944cea3359c0b18dbf"
   }
  }
 },
 "nbformat": 4,
 "nbformat_minor": 2
}
